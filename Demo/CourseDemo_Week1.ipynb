{
 "cells": [
  {
   "attachments": {},
   "cell_type": "markdown",
   "metadata": {},
   "source": [
    "![CoderSchoolAI Logo](../CoderSchoolAI/Assets/CoderSchoolAI/CoderSchoolAI-Logo.png)\n",
    "\n",
    "# Welcome to the CoderSchoolAI Program!\n",
    "\n",
    "\n",
    "This course is designed to help students learn the concepts of Python in order to better their understanding of game logic, game theory, and Agent Artificial Intelligence!\n",
    "\n",
    "\n",
    "### **This Course is designed to help students learn the concepts of Python in order to better their understanding of programming, game logic, and intelligence! This Course features a sophisticated approach focused on introducing a variety of topics through fun examples and daily challenges to push students to the next level.**\n",
    "\n",
    " This course Covers:\n",
    " - Basics of Variables\n",
    " - Data Types\n",
    " - Operators\n",
    " - Boolean Logic\n",
    " - Loops\n",
    " - Functions\n",
    " - Game Logic\n",
    " - Agent Artificial Intelligence w. Q Learning"
   ]
  },
  {
   "cell_type": "code",
   "execution_count": null,
   "metadata": {},
   "outputs": [],
   "source": []
  }
 ],
 "metadata": {
  "language_info": {
   "name": "python"
  },
  "orig_nbformat": 4
 },
 "nbformat": 4,
 "nbformat_minor": 2
}
