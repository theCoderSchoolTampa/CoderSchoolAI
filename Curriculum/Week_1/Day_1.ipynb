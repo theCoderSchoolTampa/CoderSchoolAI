{
 "cells": [
  {
   "attachments": {},
   "cell_type": "markdown",
   "metadata": {},
   "source": [
    "![CoderSchoolAI Logo](https://cdn.screencast.com/uploads/g000302xqhoP6hSYOIl1QMa17bjDi/LWR_Recording.png?sv=2021-08-06&st=2023-05-17T05%3A15%3A33Z&se=2023-05-18T05%3A15%3A33Z&sr=b&sp=r&sig=PUxkzE8aCATSKIjc6%2FhiwlVdvYgpyFb%2F4z03ZZP%2FxI0%3D)\n",
    "\n",
    "# Welcome to the CoderSchoolAI Program!\n",
    "\n",
    "\n",
    "This course is designed to help students learn the concepts of Python in order to better their understanding of game logic, game theory, and Agent Artificial Intelligence!\n",
    "\n",
    "\n",
    "**Python**\n",
    "- Python is like a language that computers understand. It's one of the easiest computer languages to learn, and it's what we're going to use to build our own computer games!\n",
    "\n",
    "![Python Logo](https://www.python.org/static/community_logos/python-logo.png)\n",
    "\n",
    "\n",
    "**Game Logic**\n",
    "- Game Logic is like the rule book for a game. It tells us how the game is played, what we can and can't do, and how to win. When we're making our own games, we get to write the rule book!\n",
    "\n",
    "![Game Logic Logo](https://media.giphy.com/media/uH7JvseKVMojS/giphy.gif)\n",
    "\n",
    "**Game Theory**\n",
    "- Game Theory is a super cool way of thinking about games. It helps us understand what the best move is, depending on what we think the other players will do. It's a bit like trying to think several moves ahead in a game of chess.\n",
    "\n",
    "![Game Theory Logo](https://thumbs.gfycat.com/WavyQualifiedDogfish-size_restricted.gif)\n",
    "\n",
    "\n",
    "**Agent Artificial Intelligence** *aka. Secret Agents!*\n",
    "- Agent Artificial Intelligence, or AI for short, is about making our computer games smart. An AI agent in a game could be a dragon, a treasure-hunting pirate, or even a clever mouse that has to navigate a maze. We'll learn how to make these characters do smart things, all by themselves!\n",
    "\n",
    "![Agent Artificial Intelligence Logo](https://th.bing.com/th/id/R.009267218eebc73d5cadddaad6aca47d?rik=5scB6UzgOHq5pg&pid=ImgRaw&r=0)\n",
    "\n",
    "\n",
    ">In this course, we're going on an adventure! We'll start by learning Python and using it to build our own games. We'll be the game masters, deciding the rules and how to win. Then, we'll dive into the world of game theory and AI, learning how to make our games more exciting and our characters smarter. We might even teach our characters to learn from their mistakes, just like us! By the end of this course, you'll be a Python whizz, a game master, and an AI explorer. Let's get started!\n"
   ]
  },
  {
   "attachments": {},
   "cell_type": "markdown",
   "metadata": {
    "tags": [
     "parameters"
    ]
   },
   "source": [
    "### 0. Python Packages and Importing?\n",
    "\n",
    "A package in Python is like a ready-to-use cake mix packet!\n",
    "\n",
    "![Cake Logo](https://i.gifer.com/TBUn.gif)\n",
    "\n",
    "It contains pre-written code that makes programming tasks easier. Just like a toolbox with different tools, packages provide various functionalities such as math, games, and drawing. Importing a package is like opening the packet and accessing its tools. Once imported, you can utilize any code from the package."
   ]
  },
  {
   "cell_type": "code",
   "execution_count": null,
   "metadata": {},
   "outputs": [],
   "source": [
    "import CoderSchoolAI # Imports the entire CoderSchoolAI library!\n",
    "from CoderSchoolAI import * # Imports all of the CoderSchoolAI library's things! Think of sprinkles and Cake Batter!\n",
    "from CoderSchoolAI.Environment.CoderSchoolEnvironments.SnakeEnvironment import * # We are going to use a pre-cooked Cake from the Library!\n",
    "\n",
    "# Lets make Sure we imported the correct version of the library, and demo the Game we Will be building this Week!\n",
    "print(CoderSchoolAI.__version__)\n",
    "\n",
    "\n",
    "'''\n",
    "\n",
    "Lets think Logically and Break down how to play the Snake Game!\n",
    "\n",
    "\n",
    "To Play the Snake Game:\n",
    "\n",
    "- we will need to create a SnakeEnv object.\n",
    "- Reset the environment.\n",
    "- Update the environment in what we call a loop.\n",
    "- We will use the W, A, S, D keys to control the snake.\n",
    "\n",
    "'''\n",
    "snake_env = SnakeEnv(target_fps=6, is_user_control=True, ) # Create a SnakeEnv object!\n",
    "snake_env.reset() # Reset the environment!\n",
    "while True: # Loop until the game is over.\n",
    "    snake_env.update_env() # Update the environment in what we call a loop."
   ]
  },
  {
   "attachments": {},
   "cell_type": "markdown",
   "metadata": {},
   "source": [
    "\n",
    "### 1. Using variables in Python\n",
    "\n",
    "In Python, a variable is a piece of information that we care about.\n",
    "\n",
    "It is helpful to think of variables as a box that holds data which **can be changed** later throughout programming.\n",
    "\n",
    "If we want to create a variable named **x** and assign it the value 10, we can do so by writing:\n",
    "\n",
    "> x = 10. \n",
    "\n",
    "Here, **=** is the assignment operator in Python.\n",
    "\n",
    "You can use different types of variables in Python, including:\n",
    "\n",
    "1. numbers\n",
    ">**h, e, l, l, o, = 1, 2, 3, 0.5, -20.2**\n",
    "2. words/strings of letters\n",
    ">**x, y, z = 'Hello, World!', 'Jack and Jill went down a Hill', 'https://YouTube.com/'**\n",
    "3. truth-values\n",
    "> **x= True #(True or False)**\n",
    "4. a List of Variables\n",
    "> **x = [True, 1, 'Jack is Still going down a Hill', 'https://YouTube.com/']**\n",
    "5. a Dictionary of Variables \n",
    "> **x = {\"Alphabet\": \"A list of letters spoken in a Language\", \"Language\": \"English\", \"Year\": 2020, \"IsDoneWithSchool\": False, 2020: \"Was once said to be Heinsight\" }**\n",
    "\n",
    " and more! We will cover this later, but for now, let's go ahead and write a few examples.\n",
    "\n",
    "\n",
    "### Extra information about Variables!\n",
    "\n",
    "- Variables in Python are case-sensitive which means name, Name and NAME are three different variables in Python.\n",
    "\n",
    "\n",
    "- In Python, variable names are also referred to as identifiers. There are few rules that you have to follow while naming the variables in Python:\n",
    "\n",
    "- The name of the variable must always start with either a letter or an underscore (_).\n",
    "- The name of the variable cannot start with a number.\n",
    "- A variable name can only contain alpha-numeric characters and underscores (A-Z, a-z, 0-9, and _).\n",
    "- Reserved words (like Python keywords) cannot be used as variable names."
   ]
  },
  {
   "cell_type": "code",
   "execution_count": 3,
   "metadata": {},
   "outputs": [
    {
     "name": "stdout",
     "output_type": "stream",
     "text": [
      "Score:  0\n",
      "Snake Body:  [(10, 10), (10, 11), (10, 12)]\n",
      "Food:  (5, 5)\n"
     ]
    }
   ],
   "source": [
    "# Declare a variable for the score\n",
    "apples_eaten = 0\n",
    "print(\"Score: \", apples_eaten)\n",
    "\n",
    "# Declare a list for the snake's body. Each item in the list represents a part of the snake's body.\n",
    "snake_body = [(10, 10), (10, 11), (10, 12)] # Each pair of numbers is a coordinate on the game grid. (x, y)\n",
    "print(\"Snake Body: \", snake_body)\n",
    "\n",
    "# Declare a variable for the food. This is a coordinate on the game grid where the food is located.\n",
    "apple_position = (5, 5)\n",
    "print(\"Food: \", apple_position)"
   ]
  },
  {
   "attachments": {},
   "cell_type": "markdown",
   "metadata": {},
   "source": [
    "### Practice Problem 1:\n",
    "\n",
    "Let's show the snake game with these variables, we can do this by assigning the variables to the game.\n",
    "\n",
    "How would we do this?\n",
    "\n",
    "Our snake game has these variables inside of it!\n",
    "\n",
    ">snake_agent = SnakeAgent()\n",
    "\n",
    ">apple_position = (some_random_row, some_random_column) # Some random row and column are numbers!\n",
    "\n",
    ">_apples_consumed = 0\n",
    "\n",
    "### Note:\n",
    "- You will see boxes to enter your answers for each question. Enter the answer in here: ***[ Enter Answer ]***\n",
    "- You will Have to Fill in code on lines with: # [FILL IN YOUR CODE HERE]"
   ]
  },
  {
   "cell_type": "code",
   "execution_count": null,
   "metadata": {},
   "outputs": [],
   "source": [
    "snake_env = SnakeEnv(target_fps=6, is_user_control=True, ) # Create a SnakeEnv object!\n",
    "\n",
    "# Lets First edit the apples eaten!\n",
    "snake_env._apples_consumed = apples_eaten # This should change the score of the game to: [ Enter Answer ]\n",
    "\n",
    "\n",
    "### View the Changes you Made!\n",
    "while True: # Loop until the game is over.\n",
    "    snake_env.render_env() # Displays the environment in what we call a loop."
   ]
  },
  {
   "cell_type": "code",
   "execution_count": null,
   "metadata": {},
   "outputs": [],
   "source": [
    "snake_env = SnakeEnv(target_fps=6, is_user_control=True, ) # Create a SnakeEnv object!\n",
    "# Now lets change the Location of the Snake!\n",
    "snake_env.snake_agent.body = snake_body # We change the body of the Snake!\n",
    "\n",
    "### Notice how:\n",
    "#   the Environment has\n",
    "#          a Snake Agent, which has\n",
    "#                a Body!\n",
    "# We can view the things that a Variable has by using the '.' (dot) Operator!\n",
    "\n",
    "\n",
    "### View the Changes you Made!\n",
    "while True: # Loop until the game is over.\n",
    "    snake_env.render_env() # Displays the environment in what we call a loop."
   ]
  },
  {
   "cell_type": "code",
   "execution_count": 4,
   "metadata": {},
   "outputs": [
    {
     "ename": "",
     "evalue": "",
     "output_type": "error",
     "traceback": [
      "\u001b[1;31mCanceled future for execute_request message before replies were done"
     ]
    },
    {
     "ename": "",
     "evalue": "",
     "output_type": "error",
     "traceback": [
      "\u001b[1;31mThe Kernel crashed while executing code in the the current cell or a previous cell. Please review the code in the cell(s) to identify a possible cause of the failure. Click <a href='https://aka.ms/vscodeJupyterKernelCrash'>here</a> for more info. View Jupyter <a href='command:jupyter.viewOutput'>log</a> for further details."
     ]
    }
   ],
   "source": [
    "# Your Turn to Code!!!\n",
    "snake_env = SnakeEnv(target_fps=6, is_user_control=True, ) # Create a SnakeEnv object!\n",
    "\n",
    "# Now lets change the Location of the Apple!!!\n",
    "# Hint: the apple position can be found with snake_env.apple_position\n",
    "snake_env.apple_position = apple_position # [FILL IN YOUR CODE]\n",
    "\n",
    "### View the Changes you Made!\n",
    "while True: # Loop until the game is over.\n",
    "    snake_env.render_env() # Displays the environment in what we call a loop."
   ]
  }
 ],
 "metadata": {
  "kernelspec": {
   "display_name": "pytorch",
   "language": "python",
   "name": "python3"
  },
  "language_info": {
   "codemirror_mode": {
    "name": "ipython",
    "version": 3
   },
   "file_extension": ".py",
   "mimetype": "text/x-python",
   "name": "python",
   "nbconvert_exporter": "python",
   "pygments_lexer": "ipython3",
   "version": "3.9.2"
  },
  "orig_nbformat": 4
 },
 "nbformat": 4,
 "nbformat_minor": 2
}
